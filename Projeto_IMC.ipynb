{
 "cells": [
  {
   "cell_type": "code",
   "execution_count": 11,
   "metadata": {},
   "outputs": [],
   "source": [
    "import pandas as pd\n",
    "import csv\n",
    "import warnings\n",
    "import numpy as np\n",
    "import win32com.client as win32"
   ]
  },
  {
   "cell_type": "code",
   "execution_count": 12,
   "metadata": {},
   "outputs": [
    {
     "name": "stdout",
     "output_type": "stream",
     "text": [
      "Lindomar 146.0 1.9\n"
     ]
    }
   ],
   "source": [
    "nome = str(input('Qual seu nome:'))\n",
    "peso = float(input(f'Informe seu peso:'))\n",
    "altura = float(input(f'Informe sua altura:'))\n",
    "imc = peso / altura**2\n",
    "print(nome,peso,altura)"
   ]
  },
  {
   "cell_type": "code",
   "execution_count": 13,
   "metadata": {},
   "outputs": [
    {
     "name": "stdout",
     "output_type": "stream",
     "text": [
      "Seu IMC é:40.44\n"
     ]
    }
   ],
   "source": [
    "print(f\"Seu IMC é:{imc:.2f}\") "
   ]
  },
  {
   "cell_type": "code",
   "execution_count": 14,
   "metadata": {},
   "outputs": [
    {
     "name": "stdout",
     "output_type": "stream",
     "text": [
      "Lindomar está com obesidade classe III, procure seu médico urgente.\n"
     ]
    }
   ],
   "source": [
    "msg = ''\n",
    "if imc < 18.5:\n",
    "\tmsg = f\"{nome} está abaixo do peso normal para seu IMC.\"\n",
    "elif imc < 24.9:\n",
    "\tmsg = f\"{nome} está com o peso Normal para seu IMC.\"\n",
    "elif imc < 29.9:\n",
    "\tmsg = f\"{nome} está com excesso de peso para sua altura.\"\n",
    "elif imc < 34.9:\n",
    "\tmsg = f\"{nome} está com obesidade classe I, cuidado!!.\"\n",
    "elif imc < 39.9:\n",
    "\tmsg = f\"{nome} está com obesidade classe II, precisa se preocupar com sua saúde.\"\n",
    "elif imc > 40:\n",
    "\tmsg = f\"{nome} está com obesidade classe III, procure seu médico urgente.\" \n",
    "else:\n",
    "\tpass\n",
    "\n",
    "print(msg)"
   ]
  },
  {
   "cell_type": "code",
   "execution_count": 15,
   "metadata": {},
   "outputs": [
    {
     "name": "stdout",
     "output_type": "stream",
     "text": [
      "['Lindomar', 146.0, 1.9, 'Lindomar está com obesidade classe III, procure seu médico urgente.']\n"
     ]
    }
   ],
   "source": [
    "imc_2 = [nome,peso,altura,msg]\n",
    "print(imc_2)"
   ]
  },
  {
   "cell_type": "code",
   "execution_count": 16,
   "metadata": {},
   "outputs": [],
   "source": [
    "imc_txt = [nome,peso,altura,msg]\n",
    "\n",
    "with open (r\"D:\\Projetos\\Calculadora IMC\\IMC.txt\", 'w', encoding='utf-8') as arquivo:\n",
    "\tfor teste in imc_txt:\n",
    "\t\tarquivo.write(str(teste))"
   ]
  },
  {
   "cell_type": "code",
   "execution_count": 17,
   "metadata": {},
   "outputs": [],
   "source": [
    "imc_txt = [nome,peso,altura,msg]\n",
    "\n",
    "with open (r\"D:\\Projetos\\Calculadora IMC\\IMC.csv\", 'w', encoding='utf-8') as arquivo:\n",
    "\tfor teste in imc_txt:\n",
    "\t\tarquivo.write(str(teste) + '\\n' )"
   ]
  },
  {
   "cell_type": "markdown",
   "metadata": {},
   "source": [
    "pyinstaller --onefile Projeto_IMC.ipynb"
   ]
  }
 ],
 "metadata": {
  "kernelspec": {
   "display_name": "Python 3.10.5 64-bit",
   "language": "python",
   "name": "python3"
  },
  "language_info": {
   "codemirror_mode": {
    "name": "ipython",
    "version": 3
   },
   "file_extension": ".py",
   "mimetype": "text/x-python",
   "name": "python",
   "nbconvert_exporter": "python",
   "pygments_lexer": "ipython3",
   "version": "3.10.5"
  },
  "orig_nbformat": 4,
  "vscode": {
   "interpreter": {
    "hash": "3a3320ebe5c4dee11e357622a2e7d245adbaff6448583a31863aa31389e77cdd"
   }
  }
 },
 "nbformat": 4,
 "nbformat_minor": 2
}
